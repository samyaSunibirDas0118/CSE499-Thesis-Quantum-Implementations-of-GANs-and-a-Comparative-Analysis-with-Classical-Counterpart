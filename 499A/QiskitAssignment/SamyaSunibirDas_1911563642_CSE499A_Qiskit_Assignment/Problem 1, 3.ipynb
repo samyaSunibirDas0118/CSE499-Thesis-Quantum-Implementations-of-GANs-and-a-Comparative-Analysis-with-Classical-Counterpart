{
  "nbformat": 4,
  "nbformat_minor": 0,
  "metadata": {
    "colab": {
      "name": "qiskit1.ipynb",
      "provenance": [],
      "collapsed_sections": []
    },
    "kernelspec": {
      "name": "python3",
      "display_name": "Python 3"
    },
    "language_info": {
      "name": "python"
    }
  },
  "cells": [
    {
      "cell_type": "markdown",
      "source": [
        "Samya Sunibir Das 1911563642"
      ],
      "metadata": {
        "id": "lnvbDpoecrp3"
      }
    },
    {
      "cell_type": "markdown",
      "source": [
        "Question 1:"
      ],
      "metadata": {
        "id": "oCD_dvlgc0vg"
      }
    },
    {
      "cell_type": "code",
      "execution_count": null,
      "metadata": {
        "id": "2a9iDtg4pdB4"
      },
      "outputs": [],
      "source": [
        "!pip install qiskit"
      ]
    },
    {
      "cell_type": "code",
      "source": [
        "!pip install pylatexenc"
      ],
      "metadata": {
        "id": "lBb6Ne4WpiHs"
      },
      "execution_count": null,
      "outputs": []
    },
    {
      "cell_type": "code",
      "source": [
        "from qiskit import *\n",
        "from qiskit.tools.monitor import job_monitor\n",
        "from qiskit.visualization import plot_state_qsphere\n",
        "from qiskit.visualization import plot_histogram, plot_bloch_multivector, array_to_latex\n",
        "import math"
      ],
      "metadata": {
        "id": "WGLvV3xnpuat"
      },
      "execution_count": 4,
      "outputs": []
    },
    {
      "cell_type": "code",
      "source": [
        ""
      ],
      "metadata": {
        "id": "27VmnLu8puKw"
      },
      "execution_count": null,
      "outputs": []
    },
    {
      "cell_type": "markdown",
      "source": [
        "1. Build Circuit\n",
        "2. Debug/run on simulator\n",
        "3. result after measurement\n",
        "\n",
        "Build Gate > run on sim > statevector (Question 1)"
      ],
      "metadata": {
        "id": "axBWE6Ykp3wD"
      }
    },
    {
      "cell_type": "code",
      "source": [
        "circuit = QuantumCircuit(1, 1) #1 qbit circuit with 1 classical bit for calculation\n",
        "#[0, 1] = |1>, [1, 0] = |0>\n",
        "\n",
        "initial_state = [1/math.sqrt(2), 1/math.sqrt(2)]  \n",
        "circuit.initialize(initial_state, 0)\n",
        "\n",
        "#identity gate is shown when no gate is applied\n",
        "\n",
        "#draw ckt\n",
        "circuit.draw(output = 'mpl', initial_state=True)"
      ],
      "metadata": {
        "colab": {
          "base_uri": "https://localhost:8080/",
          "height": 140
        },
        "id": "vCixgIUeqXQu",
        "outputId": "be1fa6a2-b6cb-469a-9423-60ea78a24553"
      },
      "execution_count": 6,
      "outputs": [
        {
          "output_type": "execute_result",
          "data": {
            "text/plain": [
              "<Figure size 237.569x144.48 with 1 Axes>"
            ],
            "image/png": "[encoded data removed]"
          },
          "metadata": {},
          "execution_count": 6
        }
      ]
    },
    {
      "cell_type": "code",
      "source": [
        "simulator = Aer.get_backend('aer_simulator') #select a simulator\n",
        "\n",
        "#save statevector\n",
        "circuit.save_statevector()\n",
        "\n",
        "#assemble our circuit\n",
        "qobj = assemble(circuit)\n",
        "\n",
        "#run on simulator\n",
        "job = simulator.run(qobj)\n",
        "\n",
        "#monitoring the process\n",
        "job_monitor(job)\n",
        "\n",
        "#get result from job\n",
        "result = job.result()\n",
        "\n",
        "#get statevector from result\n",
        "final_state = result.get_statevector()"
      ],
      "metadata": {
        "colab": {
          "base_uri": "https://localhost:8080/"
        },
        "id": "4rQScLRerEd3",
        "outputId": "48328281-4148-4faf-8fd0-b7ecba456113"
      },
      "execution_count": 7,
      "outputs": [
        {
          "output_type": "stream",
          "name": "stdout",
          "text": [
            "\rJob Status: job has successfully run\n"
          ]
        }
      ]
    },
    {
      "cell_type": "markdown",
      "source": [
        "Visualize the Final State/state vector"
      ],
      "metadata": {
        "id": "_cKggp_WsrQH"
      }
    },
    {
      "cell_type": "code",
      "source": [
        "print(final_state)\n",
        "array_to_latex(final_state)"
      ],
      "metadata": {
        "colab": {
          "base_uri": "https://localhost:8080/",
          "height": 82
        },
        "id": "bFUNmFu9s-wi",
        "outputId": "de3259ff-40e6-4ec4-97c6-248393dcce09"
      },
      "execution_count": 8,
      "outputs": [
        {
          "output_type": "stream",
          "name": "stdout",
          "text": [
            "Statevector([0.70710678+0.j, 0.70710678+0.j],\n",
            "            dims=(2,))\n"
          ]
        },
        {
          "output_type": "execute_result",
          "data": {
            "text/plain": [
              "<IPython.core.display.Latex object>"
            ],
            "text/latex": "$$\n\n\\begin{bmatrix}\n\\tfrac{1}{\\sqrt{2}} & \\tfrac{1}{\\sqrt{2}}  \\\\\n \\end{bmatrix}\n$$"
          },
          "metadata": {},
          "execution_count": 8
        }
      ]
    },
    {
      "cell_type": "code",
      "source": [
        "plot_bloch_multivector(final_state)"
      ],
      "metadata": {
        "colab": {
          "base_uri": "https://localhost:8080/",
          "height": 268
        },
        "id": "GcbnGd2gtlup",
        "outputId": "ac1c2380-eaf6-4947-966d-ad9446c24435"
      },
      "execution_count": null,
      "outputs": [
        {
          "output_type": "execute_result",
          "data": {
            "text/plain": [
              "<Figure size 288x288 with 1 Axes>"
            ],
            "image/png": "[encoded data removed]"
          },
          "metadata": {},
          "execution_count": 15
        }
      ]
    },
    {
      "cell_type": "markdown",
      "source": [
        "**Question 3:**"
      ],
      "metadata": {
        "id": "il_Aswrzc4qM"
      }
    },
    {
      "cell_type": "markdown",
      "source": [
        "Unitary Matrix"
      ],
      "metadata": {
        "id": "nZjo3JFgy0zm"
      }
    },
    {
      "cell_type": "code",
      "source": [
        "#create circuit\n",
        "\n",
        "circuit = QuantumCircuit(1)   #1 qbit\n",
        "\n",
        "circuit.x(0)\n",
        "circuit.z(0)\n",
        "circuit.h(0)\n",
        "\n",
        "#draw circuit\n",
        "circuit.draw(output = 'mpl',  initial_state = True)\n"
      ],
      "metadata": {
        "colab": {
          "base_uri": "https://localhost:8080/",
          "height": 95
        },
        "id": "HbkNTlauy3GJ",
        "outputId": "c0d98249-d445-4dbe-c861-06b3edc534da"
      },
      "execution_count": 9,
      "outputs": [
        {
          "output_type": "execute_result",
          "data": {
            "text/plain": [
              "<Figure size 297.769x84.28 with 1 Axes>"
            ],
            "image/png": "[encoded data removed]"
          },
          "metadata": {},
          "execution_count": 9
        }
      ]
    },
    {
      "cell_type": "code",
      "source": [
        "#select simulator\n",
        "simulator = Aer.get_backend('aer_simulator')\n",
        "\n",
        "#save unitary\n",
        "circuit.save_unitary()\n",
        "\n",
        "#assemble ckt\n",
        "qobj = assemble(circuit)\n",
        "\n",
        "#run on simulator\n",
        "job = simulator.run(qobj)\n",
        "\n",
        "#monitor\n",
        "job_monitor(job)\n",
        "\n",
        "#get result\n",
        "result = job.result()\n",
        "\n",
        "#get unitary\n",
        "unitary = result.get_unitary()"
      ],
      "metadata": {
        "colab": {
          "base_uri": "https://localhost:8080/"
        },
        "id": "9nJQcLEdzTG1",
        "outputId": "ecc26cea-33d5-44c5-dc80-6431a7653eef"
      },
      "execution_count": 10,
      "outputs": [
        {
          "output_type": "stream",
          "name": "stdout",
          "text": [
            "Job Status: job has successfully run\n"
          ]
        }
      ]
    },
    {
      "cell_type": "code",
      "source": [
        "print(unitary)\n",
        "array_to_latex(unitary)\n",
        "#identity gate is shown when no gate is applied"
      ],
      "metadata": {
        "colab": {
          "base_uri": "https://localhost:8080/",
          "height": 120
        },
        "id": "R6o8ZBxZ0L0i",
        "outputId": "8f0645de-f3d8-4a92-b3b7-91ee4977220f"
      },
      "execution_count": 11,
      "outputs": [
        {
          "output_type": "stream",
          "name": "stdout",
          "text": [
            "Operator([[-0.70710678+8.65956056e-17j,  0.70710678+0.00000000e+00j],\n",
            "          [ 0.70710678-8.65956056e-17j,  0.70710678+0.00000000e+00j]],\n",
            "         input_dims=(2,), output_dims=(2,))\n"
          ]
        },
        {
          "output_type": "execute_result",
          "data": {
            "text/plain": [
              "<IPython.core.display.Latex object>"
            ],
            "text/latex": "$$\n\n\\begin{bmatrix}\n-\\tfrac{1}{\\sqrt{2}} & \\tfrac{1}{\\sqrt{2}}  \\\\\n \\tfrac{1}{\\sqrt{2}} & \\tfrac{1}{\\sqrt{2}}  \\\\\n \\end{bmatrix}\n$$"
          },
          "metadata": {},
          "execution_count": 11
        }
      ]
    },
    {
      "cell_type": "markdown",
      "source": [
        "For the H,X,H"
      ],
      "metadata": {
        "id": "z9wQTfUEd-dP"
      }
    },
    {
      "cell_type": "code",
      "source": [
        "#create circuit\n",
        "\n",
        "circuit = QuantumCircuit(1)   #1 qbit\n",
        "\n",
        "circuit.h(0)\n",
        "circuit.x(0)\n",
        "circuit.h(0)\n",
        "\n",
        "\n",
        "#draw circuit\n",
        "circuit.draw(output = 'mpl',  initial_state = True)"
      ],
      "metadata": {
        "colab": {
          "base_uri": "https://localhost:8080/",
          "height": 95
        },
        "id": "R-oK65_beBLC",
        "outputId": "923f1bba-7759-4f71-a6a3-ec31020136d9"
      },
      "execution_count": 12,
      "outputs": [
        {
          "output_type": "execute_result",
          "data": {
            "text/plain": [
              "<Figure size 297.769x84.28 with 1 Axes>"
            ],
            "image/png": "[encoded data removed]"
          },
          "metadata": {},
          "execution_count": 12
        }
      ]
    },
    {
      "cell_type": "code",
      "source": [
        "#select simulator\n",
        "simulator = Aer.get_backend('aer_simulator')\n",
        "\n",
        "#save unitary\n",
        "circuit.save_unitary()\n",
        "\n",
        "#assemble ckt\n",
        "qobj = assemble(circuit)\n",
        "\n",
        "#run on simulator\n",
        "job = simulator.run(qobj)\n",
        "\n",
        "#monitor\n",
        "job_monitor(job)\n",
        "\n",
        "#get result\n",
        "result = job.result()\n",
        "\n",
        "#get unitary\n",
        "unitary = result.get_unitary()"
      ],
      "metadata": {
        "colab": {
          "base_uri": "https://localhost:8080/"
        },
        "id": "UGJFn7l7eHV6",
        "outputId": "0f1c8ea7-f012-439e-fbb4-0e04ac3ee743"
      },
      "execution_count": 13,
      "outputs": [
        {
          "output_type": "stream",
          "name": "stdout",
          "text": [
            "Job Status: job has successfully run\n"
          ]
        }
      ]
    },
    {
      "cell_type": "code",
      "source": [
        "print(unitary)\n",
        "array_to_latex(unitary)\n",
        "#identity gate is shown when no gate is applied"
      ],
      "metadata": {
        "colab": {
          "base_uri": "https://localhost:8080/",
          "height": 110
        },
        "id": "WrMBpAdreMbi",
        "outputId": "e8845196-37a1-44d5-be13-f80709b4e20c"
      },
      "execution_count": 14,
      "outputs": [
        {
          "output_type": "stream",
          "name": "stdout",
          "text": [
            "Operator([[ 1.00000000e+00-6.1232340e-17j, -2.22044605e-16-6.1232340e-17j],\n",
            "          [-2.22044605e-16+6.1232340e-17j, -1.00000000e+00+1.8369702e-16j]],\n",
            "         input_dims=(2,), output_dims=(2,))\n"
          ]
        },
        {
          "output_type": "execute_result",
          "data": {
            "text/plain": [
              "<IPython.core.display.Latex object>"
            ],
            "text/latex": "$$\n\n\\begin{bmatrix}\n1 & 0  \\\\\n 0 & -1  \\\\\n \\end{bmatrix}\n$$"
          },
          "metadata": {},
          "execution_count": 14
        }
      ]
    }
  ]
}